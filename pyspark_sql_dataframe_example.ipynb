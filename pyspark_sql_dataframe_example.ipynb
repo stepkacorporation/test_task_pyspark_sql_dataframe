{
 "cells": [
  {
   "cell_type": "markdown",
   "id": "30f42536-0ae8-4e87-9052-161f121b1077",
   "metadata": {},
   "source": [
    "1. Import libraries and create a Spark session:"
   ]
  },
  {
   "cell_type": "code",
   "execution_count": 2,
   "id": "a84550f2-ccb5-433a-89b2-538ce847b014",
   "metadata": {},
   "outputs": [],
   "source": [
    "from pyspark.sql import SparkSession\n",
    "from pyspark.sql.functions import col\n",
    "\n",
    "spark = SparkSession.builder.appName(\"ProductCategoryAssignment\").getOrCreate()\n",
    "spark.sparkContext.setLogLevel(\"ERROR\")"
   ]
  },
  {
   "cell_type": "markdown",
   "id": "4e275948-5ca1-4d43-8824-9ef46cbbc223",
   "metadata": {},
   "source": [
    "2. Create DataFrames with product, category, and their relationship data:"
   ]
  },
  {
   "cell_type": "code",
   "execution_count": 3,
   "id": "9c256d2b-ea06-417f-b597-10dab45557ab",
   "metadata": {},
   "outputs": [],
   "source": [
    "products_data = [\n",
    "    (1, \"Product A\"),\n",
    "    (2, \"Product B\"),\n",
    "    (3, \"Product C\"),\n",
    "    (4, \"Product D\"),\n",
    "]\n",
    "products_df = spark.createDataFrame(products_data, [\"product_id\", \"product_name\"])\n",
    "\n",
    "categories_data = [\n",
    "    (1, \"Category X\"),\n",
    "    (2, \"Category Y\"),\n",
    "    (3, \"Category Z\"),\n",
    "]\n",
    "categories_df = spark.createDataFrame(categories_data, [\"category_id\", \"category_name\"])\n",
    "\n",
    "product_category_data = [\n",
    "    (1, 1),\n",
    "    (2, 2),\n",
    "    (3, 3),\n",
    "    (1, 2),\n",
    "    (4, None),\n",
    "]\n",
    "product_category_df = spark.createDataFrame(product_category_data, [\"product_id\", \"category_id\"])"
   ]
  },
  {
   "cell_type": "markdown",
   "id": "add472fa-5cde-48bd-9f5c-77eda4b45e7f",
   "metadata": {},
   "source": [
    "3. Define a method to get \"Product Name - Category Name\" pairs and a list of products without categories:"
   ]
  },
  {
   "cell_type": "code",
   "execution_count": 6,
   "id": "20967c81-4751-44f5-a2f3-7915da39b29e",
   "metadata": {},
   "outputs": [],
   "source": [
    "def get_product_category_pairs(products_df, categories_df, product_category_df):\n",
    "    # Join products and relationships\n",
    "    product_category_joined = products_df.join(product_category_df, \"product_id\", \"left\")\n",
    "    \n",
    "    # Join with categories\n",
    "    result_df = product_category_joined.join(categories_df, \"category_id\", \"left\")\n",
    "    \n",
    "    # \"Product Name - Category Name\" pairs\n",
    "    product_category_pairs = result_df.select(\"product_name\", \"category_name\")\n",
    "    \n",
    "    # Products without categories\n",
    "    products_without_category = product_category_pairs.filter(col(\"category_name\").isNull()).select(\"product_name\")\n",
    "    \n",
    "    return product_category_pairs, products_without_category"
   ]
  },
  {
   "cell_type": "markdown",
   "id": "f3483383-5972-4752-8e47-2b8b47714fc1",
   "metadata": {},
   "source": [
    "4. Get and display the results:"
   ]
  },
  {
   "cell_type": "code",
   "execution_count": 7,
   "id": "ee095d6c-59f3-4f5f-bfef-f402ac58d6dd",
   "metadata": {},
   "outputs": [
    {
     "name": "stderr",
     "output_type": "stream",
     "text": [
      "                                                                                \r"
     ]
    },
    {
     "name": "stdout",
     "output_type": "stream",
     "text": [
      "+------------+-------------+\n",
      "|product_name|category_name|\n",
      "+------------+-------------+\n",
      "|   Product A|   Category Y|\n",
      "|   Product A|   Category X|\n",
      "|   Product B|   Category Y|\n",
      "|   Product C|   Category Z|\n",
      "|   Product D|         NULL|\n",
      "+------------+-------------+\n",
      "\n"
     ]
    },
    {
     "name": "stderr",
     "output_type": "stream",
     "text": [
      "                                                                                \r"
     ]
    },
    {
     "name": "stdout",
     "output_type": "stream",
     "text": [
      "+------------+\n",
      "|product_name|\n",
      "+------------+\n",
      "|   Product D|\n",
      "+------------+\n",
      "\n"
     ]
    }
   ],
   "source": [
    "product_category_pairs, products_without_category = get_product_category_pairs(products_df, categories_df, product_category_df)\n",
    "\n",
    "product_category_pairs.show()\n",
    "products_without_category.show()"
   ]
  }
 ],
 "metadata": {
  "kernelspec": {
   "display_name": "Python 3 (ipykernel)",
   "language": "python",
   "name": "python3"
  },
  "language_info": {
   "codemirror_mode": {
    "name": "ipython",
    "version": 3
   },
   "file_extension": ".py",
   "mimetype": "text/x-python",
   "name": "python",
   "nbconvert_exporter": "python",
   "pygments_lexer": "ipython3",
   "version": "3.11.0rc1"
  }
 },
 "nbformat": 4,
 "nbformat_minor": 5
}
